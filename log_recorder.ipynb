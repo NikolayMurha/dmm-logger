{
 "cells": [
  {
   "cell_type": "code",
   "execution_count": 1,
   "id": "b17bc6d3",
   "metadata": {},
   "outputs": [],
   "source": [
    "!pip install pyvisa pandas pyvisa-py  > /dev/null\n",
    "!pip install ipywidgets > /dev/null\n",
    "\n",
    "# -*- coding: utf-8 -*-\n",
    "from IPython.display import display\n",
    "from lib.global_state import GobalState\n",
    "from lib.ui.dmm_log_recorder_ui import DmmLogRecorderUi\n",
    "from IPython.core.interactiveshell import InteractiveShell\n",
    "InteractiveShell.ast_node_interactivity = \"all\"\n",
    "%matplotlib widget\n",
    "base_path = \"./logs\"\n",
    "global_state = GobalState()"
   ]
  },
  {
   "cell_type": "code",
   "execution_count": 2,
   "id": "ed77fae7",
   "metadata": {},
   "outputs": [
    {
     "data": {
      "application/vnd.jupyter.widget-view+json": {
       "model_id": "d701ae8e4af94bca87b712ce351e8f88",
       "version_major": 2,
       "version_minor": 0
      },
      "text/plain": [
       "VBox(children=(HBox(children=(Text(value='192.168.1.202', description='IP'), Dropdown(description='Час запису:…"
      ]
     },
     "metadata": {},
     "output_type": "display_data"
    },
    {
     "data": {
      "application/vnd.jupyter.widget-view+json": {
       "model_id": "bb89dabbd596478dbc90ce01c029a156",
       "version_major": 2,
       "version_minor": 0
      },
      "text/plain": [
       "Output()"
      ]
     },
     "metadata": {},
     "output_type": "display_data"
    },
    {
     "data": {
      "application/vnd.jupyter.widget-view+json": {
       "model_id": "9611b9ec90d2401cb171437af0383b0b",
       "version_major": 2,
       "version_minor": 0
      },
      "text/plain": [
       "HBox(children=(IntProgress(value=0, bar_style='success', description='Запис:', max=180, style=ProgressStyle(ba…"
      ]
     },
     "metadata": {},
     "output_type": "display_data"
    },
    {
     "data": {
      "text/plain": [
       "'Create CSV file: ./logs/03.07.2025/JUPYTER/DMM00001_CURR_DC_180s.csv.gz'"
      ]
     },
     "metadata": {},
     "output_type": "display_data"
    },
    {
     "data": {
      "text/plain": [
       "'Connected: 192.168.1.202, Agilent Technologies,34410A,MY53006581,2.40-2.40-0.09-46-09\\n'"
      ]
     },
     "metadata": {},
     "output_type": "display_data"
    },
    {
     "data": {
      "text/plain": [
       "'Waiting for reading. It may take a while...'"
      ]
     },
     "metadata": {},
     "output_type": "display_data"
    },
    {
     "data": {
      "text/plain": [
       "'Speed: 3329 samples/sec'"
      ]
     },
     "metadata": {},
     "output_type": "display_data"
    },
    {
     "data": {
      "text/plain": [
       "'Time is up, stopping...'"
      ]
     },
     "metadata": {},
     "output_type": "display_data"
    },
    {
     "data": {
      "text/plain": [
       "'[CURR:DC] Total lines written: 600000, plc: 0.02, range: 1 duration: 187.79 sec, chunk_size: 50000, chunks: 12, sample rate: 3334.5833333333335 records/sec'"
      ]
     },
     "metadata": {},
     "output_type": "display_data"
    }
   ],
   "source": [
    "dmm_log_recorder_ui = DmmLogRecorderUi(global_state, base_path)\n",
    "dmm_log_recorder_ui.display()"
   ]
  }
 ],
 "metadata": {
  "kernelspec": {
   "display_name": "3.12.5",
   "language": "python",
   "name": "python3"
  },
  "language_info": {
   "codemirror_mode": {
    "name": "ipython",
    "version": 3
   },
   "file_extension": ".py",
   "mimetype": "text/x-python",
   "name": "python",
   "nbconvert_exporter": "python",
   "pygments_lexer": "ipython3",
   "version": "3.12.5"
  }
 },
 "nbformat": 4,
 "nbformat_minor": 5
}
