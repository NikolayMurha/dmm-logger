{
 "cells": [
  {
   "cell_type": "code",
   "execution_count": 1,
   "id": "b17bc6d3",
   "metadata": {},
   "outputs": [],
   "source": [
    "!pip install pyvisa pandas pyvisa-py  > /dev/null\n",
    "!pip install ipywidgets > /dev/null\n",
    "\n",
    "# -*- coding: utf-8 -*-\n",
    "from IPython.display import display\n",
    "from lib.global_state import GobalState\n",
    "from lib.ui.dmm_log_recorder_ui import DmmLogRecorderUi\n",
    "from IPython.core.interactiveshell import InteractiveShell\n",
    "InteractiveShell.ast_node_interactivity = \"all\"\n",
    "%matplotlib widget\n",
    "base_path = \"./logs\"\n",
    "global_state = GobalState()"
   ]
  },
  {
   "cell_type": "code",
   "execution_count": 2,
   "id": "ed77fae7",
   "metadata": {},
   "outputs": [
    {
     "data": {
      "application/vnd.jupyter.widget-view+json": {
       "model_id": "1f5d2d4ec44d4f67abd44a4ac4d18f58",
       "version_major": 2,
       "version_minor": 0
      },
      "text/plain": [
       "VBox(children=(HBox(children=(Text(value='192.168.1.202', description='IP'), Dropdown(description='Час запису:…"
      ]
     },
     "metadata": {},
     "output_type": "display_data"
    },
    {
     "data": {
      "application/vnd.jupyter.widget-view+json": {
       "model_id": "822d330ec7134f6a9b71112e41a09c59",
       "version_major": 2,
       "version_minor": 0
      },
      "text/plain": [
       "Output()"
      ]
     },
     "metadata": {},
     "output_type": "display_data"
    }
   ],
   "source": [
    "dmm_log_recorder_ui = DmmLogRecorderUi(global_state, base_path)\n",
    "dmm_log_recorder_ui.display()"
   ]
  }
 ],
 "metadata": {
  "kernelspec": {
   "display_name": "3.12.5",
   "language": "python",
   "name": "python3"
  },
  "language_info": {
   "codemirror_mode": {
    "name": "ipython",
    "version": 3
   },
   "file_extension": ".py",
   "mimetype": "text/x-python",
   "name": "python",
   "nbconvert_exporter": "python",
   "pygments_lexer": "ipython3",
   "version": "3.12.5"
  }
 },
 "nbformat": 4,
 "nbformat_minor": 5
}
