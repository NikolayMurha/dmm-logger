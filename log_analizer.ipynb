{
 "cells": [
  {
   "cell_type": "code",
   "execution_count": 3,
   "id": "b2318f99",
   "metadata": {},
   "outputs": [],
   "source": [
    "!pip3 install matplotlib > /dev/null \n",
    "!pip3 install ipympl > /dev/null \n",
    "!pip3 install ipywidgets > /dev/null\n",
    "!pip3 install numpy > /dev/null\n",
    "!pip3 install scipy > /dev/null\n",
    "!pip3 install tabulate > /dev/null\n",
    "%matplotlib widget\n",
    "from IPython.core.interactiveshell import InteractiveShell\n",
    "InteractiveShell.ast_node_interactivity = \"all\"\n"
   ]
  },
  {
   "cell_type": "code",
   "execution_count": 6,
   "id": "f44d283f",
   "metadata": {},
   "outputs": [
    {
     "data": {
      "application/vnd.jupyter.widget-view+json": {
       "model_id": "6b85392d844240f3b06869e480219e6f",
       "version_major": 2,
       "version_minor": 0
      },
      "text/plain": [
       "interactive(children=(Dropdown(description='Дата:', options=('03.07.2025',), value='03.07.2025'), Output()), _…"
      ]
     },
     "metadata": {},
     "output_type": "display_data"
    }
   ],
   "source": [
    "\n",
    "# from datetime import time\n",
    "import time as tm\n",
    "import gzip\n",
    "import numpy as np\n",
    "from tabulate import tabulate\n",
    "from lib.data_chain import DataChain\n",
    "from lib.dataset import Dataset\n",
    "from lib.ui.data_plotter_ui import DataPlotterUi\n",
    "from lib.filters.ema_filter import EMAFilter\n",
    "# from lib.filters.median_filter import MedianFilter\n",
    "from lib.ui.data_trimmer_ui import DataTrimmerUi\n",
    "from lib.file_manager import FileManager\n",
    "from lib.ui.file_manager_ui import FileManagerUi\n",
    "from lib.global_state import GobalState\n",
    "from IPython.display import HTML, display\n",
    "\n",
    "base_path = \"./logs\"\n",
    "global_state = GobalState()\n",
    "\n",
    "# Data Chain Processing\n",
    "filter_chain = DataChain()\n",
    "filter_chain.add_filter(EMAFilter(k_factor=0.05))\n",
    "\n",
    "# Init data Trimmer\n",
    "data_trimmer = DataTrimmerUi(max_depth = 2)\n",
    "# Init File Selector\n",
    "file_manager_ui = FileManagerUi(global_state, FileManager(base_path, prefix=\"DMM\", extension=\"csv.gz\"))\n",
    "\n",
    "def read_file(file):\n",
    "    with gzip.open(file, \"rt\", encoding=\"utf-8\") as f:\n",
    "        lines = f.readlines()\n",
    "        return Dataset(np.array(lines)) \n",
    "\n",
    "def analize(dataset: Dataset):\n",
    "    data_slice = dataset.slice()\n",
    "    filtered_data_slice = np.array(filter_chain.apply(data_slice))\n",
    "\n",
    "    dt = 1.0 / dataset.meta.get('sample_rate', 1.0)\n",
    "    xvalues = dataset.data_range[0]*dt + np.arange(len(filtered_data_slice)) * dt\n",
    "    data_plotter = DataPlotterUi(title=\"Оброблені данні\", ylabel=dataset.meta.get('config', 'Values'))\n",
    "    data_plotter.display(filtered_data_slice, xvalues = xvalues)\n",
    "    time_str = tm.strftime(\"%Y-%m-%d %H:%M:%S\", dataset.meta['start_time'])\n",
    "    span_size = dataset.data_range[1]-dataset.data_range[0]\n",
    "    stats = []\n",
    "    stats.append(['Вихідні данні', time_str, dataset.data_range[0], dataset.data_range[1], span_size * dt, span_size, data_slice.mean(), data_slice.min(), data_slice.max(), data_slice.max()-data_slice.min()])\n",
    "    stats.append(['Оброблені данні', time_str, dataset.data_range[0], dataset.data_range[1], span_size * dt, filtered_data_slice.mean(), filtered_data_slice.min(), filtered_data_slice.max(), filtered_data_slice.max()-filtered_data_slice.min()])\n",
    "    display(HTML(tabulate(stats, headers=['Title', 'Record Time', 'From', 'To', 'Span, s', 'Time', 'Avg', 'Min', 'Max',  'Max-Min'], tablefmt='html')))\n",
    "\n",
    "# Trimer Callback\n",
    "data_trimmer.on_complete(analize)\n",
    "# File Manager Callback\n",
    "file_manager_ui.on_select(lambda file, *args: data_trimmer.display(read_file(file)))\n",
    "file_manager_ui.display()"
   ]
  }
 ],
 "metadata": {
  "kernelspec": {
   "display_name": "3.12.5",
   "language": "python",
   "name": "python3"
  },
  "language_info": {
   "codemirror_mode": {
    "name": "ipython",
    "version": 3
   },
   "file_extension": ".py",
   "mimetype": "text/x-python",
   "name": "python",
   "nbconvert_exporter": "python",
   "pygments_lexer": "ipython3",
   "version": "3.12.5"
  }
 },
 "nbformat": 4,
 "nbformat_minor": 5
}
